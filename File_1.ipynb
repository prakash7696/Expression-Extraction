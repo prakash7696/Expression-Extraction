{
 "cells": [
  {
   "cell_type": "code",
   "execution_count": 21,
   "id": "0818347e",
   "metadata": {},
   "outputs": [
    {
     "name": "stdout",
     "output_type": "stream",
     "text": [
      "Units: 100\n",
      "Order Number: None\n",
      "Quantity: None\n"
     ]
    }
   ],
   "source": [
    "import re\n",
    "\n",
    "message = \"I am interested in manufacturing PCBs for my project. Attached are the gerber and design files. Kindly provide a quotation for approximately 100 units. Also, please let me know the estimated manufacturing timeline with 1234 order.\"\n",
    "\n",
    "# Extract units\n",
    "units_match = re.search(r\"\\b(\\d+)\\s*units\\b\", message, re.IGNORECASE)\n",
    "if units_match:\n",
    "    units = int(units_match.group(1))\n",
    "else:\n",
    "    units = None\n",
    "\n",
    "# Extract order number\n",
    "order_match = re.search(r\"order\\s+(\\d+)\", message, re.IGNORECASE)\n",
    "if order_match:\n",
    "    order_number = order_match.group(1)\n",
    "else:\n",
    "    order_number = None\n",
    "    \n",
    "# Extract quantity\n",
    "quantity = re.search(r\"quantity\\s+(\\d+)\", message, re.IGNORECASE)\n",
    "if order_match:\n",
    "    order_number = order_match.group(1)\n",
    "else:\n",
    "    order_number = None\n",
    "\n",
    "print(\"Units:\", units)\n",
    "print(\"Order Number:\", order_number)\n",
    "print(\"Quantity:\", quantity)"
   ]
  },
  {
   "cell_type": "code",
   "execution_count": 33,
   "id": "b176a3c5",
   "metadata": {},
   "outputs": [
    {
     "name": "stdout",
     "output_type": "stream",
     "text": [
      "Numbers: [100]\n"
     ]
    }
   ],
   "source": [
    "import re\n",
    "\n",
    "message = \"I am interested in manufacturing PCBs 10 for my project. Attached are the gerber and design files. Kindly provide a quotation for approximately 100 unit. Also, please let me know the estimated manufacturing timeline with order 1234.\"\n",
    "\n",
    "expressions = [\"units?\", \"PCBs?\", \"gerber\"]\n",
    "\n",
    "# Construct the regular expression pattern dynamically\n",
    "pattern = r\"\\b(\\d+)\\s*(?:\" + \"|\".join(expressions) + r\")\\b\"\n",
    "\n",
    "# Search for matches\n",
    "matches = re.findall(pattern, message, re.IGNORECASE)\n",
    "\n",
    "# Extracted numbers\n",
    "numbers = [int(match) for match in matches]\n",
    "\n",
    "print(\"Numbers:\", numbers)\n"
   ]
  },
  {
   "cell_type": "code",
   "execution_count": 6,
   "id": "207a6c47",
   "metadata": {},
   "outputs": [
    {
     "name": "stdout",
     "output_type": "stream",
     "text": [
      "Numbers: [100]\n"
     ]
    }
   ],
   "source": [
    "import re\n",
    "from num2words import num2words\n",
    "\n",
    "message = \"I am interested in manufacturing ten PCBs 10 for my project. Attached are the gerber 2 and design files. Kindly provide a quotation for approximately 100 unit. Also, please let me know the estimated manufacturing timeline with order 1234.\"\n",
    "\n",
    "expressions = [\"units?\", \"PCBs?\", \"gerber\"]\n",
    "\n",
    "# Construct the regular expression pattern dynamically\n",
    "pattern = r\"\\b(\\d+|{})\\s*(?:\" + \"|\".join(expressions) + r\")\\b\".format(\"|\".join(num2words(i) for i in range(1, 1001)))\n",
    "\n",
    "# Search for matches\n",
    "matches = re.findall(pattern, message, re.IGNORECASE)\n",
    "\n",
    "# Extracted numbers\n",
    "numbers = []\n",
    "for match in matches:\n",
    "    if match.isdigit():\n",
    "        numbers.append(int(match))\n",
    "    else:\n",
    "        numbers.append(num2words(match))\n",
    "\n",
    "print(\"Numbers:\", numbers)\n"
   ]
  },
  {
   "cell_type": "code",
   "execution_count": 5,
   "id": "8a163607",
   "metadata": {},
   "outputs": [
    {
     "name": "stdout",
     "output_type": "stream",
     "text": [
      "Order Number: 123456\n"
     ]
    }
   ],
   "source": [
    "import re\n",
    "\n",
    "order_text = \"The order number was 123456. My order is for 7890 units.\"\n",
    "\n",
    "\n",
    "\n",
    "# Define the pattern using regular expression\n",
    "order_pattern = r'(order|order number was|my order)\\s*\\b(\\d+)\\b'\n",
    "#unit_pattern = r'(unit|units|quantity|gerber|pcb|pcbs)\\s*\\b(\\d+)\\b'\n",
    "\n",
    "# Find all matches in the text\n",
    "order_matches = re.findall(order_pattern, order_text, flags=re.IGNORECASE)\n",
    "\n",
    "\n",
    "# Process the matches\n",
    "for match in order_matches:\n",
    "    expression = match[0]\n",
    "    number = match[1]\n",
    "    #print(\"Expression:\", expression)\n",
    "    print(\"Order Number:\", number)\n",
    "    #print(\"Number:\", number)"
   ]
  },
  {
   "cell_type": "code",
   "execution_count": 9,
   "id": "fbaa63ee",
   "metadata": {},
   "outputs": [],
   "source": [
    "import re\n",
    "\n",
    "unit_text = \"The order number was 123456. My order is for 7890 gerber.\"\n",
    "\n",
    "unit_pattern = r'(unit|units|quantity|gerber|pcb|pcbs)\\s*\\b(\\d+)\\b'\n",
    "\n",
    "unit_matches = re.findall(unit_pattern, unit_text, flags=re.IGNORECASE)\n",
    "\n",
    "for match in unit_matches:\n",
    "    print(\"Unit:\", unit_matches)\n",
    "    expression = match[0]\n",
    "    u_number = match[1]\n",
    "    #print(\"Unit:\", unit_matches)"
   ]
  },
  {
   "cell_type": "code",
   "execution_count": 23,
   "id": "6cceb422",
   "metadata": {},
   "outputs": [
    {
     "name": "stdout",
     "output_type": "stream",
     "text": [
      "Preceding Text: The order number is 123456. The\n"
     ]
    }
   ],
   "source": [
    "import re\n",
    "\n",
    "# Define the input text\n",
    "input_text = \"The order number is 123456. The quantity is 7890 units. The total cost is $500.\"\n",
    "\n",
    "# Define the expression to match\n",
    "expression = \"quantity\"\n",
    "\n",
    "# Split the input text using the expression as the delimiter\n",
    "split_text = re.split(r'\\b{}\\b'.format(re.escape(expression)), input_text, flags=re.IGNORECASE)\n",
    "\n",
    "# Extract the first part before the expression\n",
    "preceding_text = split_text[0].strip()\n",
    "\n",
    "print(\"Preceding Text:\", preceding_text)\n"
   ]
  },
  {
   "cell_type": "code",
   "execution_count": 5,
   "id": "bc8cdc17",
   "metadata": {},
   "outputs": [
    {
     "name": "stdout",
     "output_type": "stream",
     "text": [
      "Expression: order number\n",
      "Data: 7890\n",
      "\n",
      "Expression: total\n",
      "Data: 500.\n",
      "\n"
     ]
    }
   ],
   "source": [
    "import re\n",
    "\n",
    "# Define the input text\n",
    "input_text = \"The 123456 order number. The quantity is 7890 units. The total cost is $500.\"\n",
    "\n",
    "# Define the regular expression pattern\n",
    "pattern = r'(order number|quantity|cost|total)\\D+(\\d+[\\d,.]*)'\n",
    "\n",
    "# Find all matches in the input text\n",
    "matches = re.findall(pattern, input_text, flags=re.IGNORECASE)\n",
    "\n",
    "# Iterate over the matches and print the expression and the associated data\n",
    "for match in matches:\n",
    "    expression = match[0]\n",
    "    data = match[1]\n",
    "    print(\"Expression:\", expression)\n",
    "    print(\"Data:\", data)\n",
    "    print()\n"
   ]
  },
  {
   "cell_type": "code",
   "execution_count": 9,
   "id": "2589766b",
   "metadata": {},
   "outputs": [
    {
     "name": "stdout",
     "output_type": "stream",
     "text": [
      "Order ID: None\n",
      "Units: 100\n",
      "Quantity: 100\n"
     ]
    }
   ],
   "source": [
    "#import re\n",
    "\n",
    "email_text = \"\"\"\n",
    "Dear Supplier,\n",
    "\n",
    "We would like to place an order for the following PCBs:\n",
    "\n",
    "- Quantity: 100 units\n",
    "- Order No.: ABC123\n",
    "- PCB Type: Single-sided\n",
    "\n",
    "Please confirm the order details and provide us with the payment information.\n",
    "\n",
    "Thank you.\n",
    "\n",
    "Best regards,\n",
    "Customer\n",
    "\"\"\"\n",
    "\n",
    "# Define regular expressions to search for order, units, and quantity\n",
    "order_regex = r\"Order ID|Order|Order No: (\\w+)\"\n",
    "units_regex = r\"Quantity: (\\d+) units?\"\n",
    "quantity_regex = r\"(\\d+) units?\"\n",
    "\n",
    "# Search for order, units, and quantity in the email text\n",
    "order_match = re.search(order_regex, email_text)\n",
    "units_match = re.search(units_regex, email_text)\n",
    "quantity_match = re.search(quantity_regex, email_text)\n",
    "\n",
    "# Extract the values if the matches are found\n",
    "order_id = order_match.group(1) if order_match else None\n",
    "units = units_match.group(1) if units_match else None\n",
    "quantity = quantity_match.group(1) if quantity_match else None\n",
    "\n",
    "# Print the extracted values\n",
    "print(\"Order ID:\", order_id)\n",
    "print(\"Units:\", units)\n",
    "print(\"Quantity:\", quantity)\n"
   ]
  },
  {
   "cell_type": "code",
   "execution_count": 13,
   "id": "d51168c2",
   "metadata": {},
   "outputs": [
    {
     "name": "stdout",
     "output_type": "stream",
     "text": [
      "Matched expressions: ['quick', 'lazy']\n"
     ]
    }
   ],
   "source": [
    "import re\n",
    "\n",
    "text = \"The quick brown dog jumps over the lazy dog.\"\n",
    "\n",
    "# Define multiple expressions\n",
    "expressions = [\n",
    "    r\"quick\",\n",
    "    r\"fox\",\n",
    "    r\"lazy\",\n",
    "    r\"cat\"\n",
    "]\n",
    "\n",
    "# Search for all expressions in the text\n",
    "matches = []\n",
    "for expression in expressions:\n",
    "    match = re.search(expression, text)\n",
    "    if match:\n",
    "        matches.append(match.group())\n",
    "\n",
    "# Print the matched expressions\n",
    "print(\"Matched expressions:\", matches)\n"
   ]
  },
  {
   "cell_type": "code",
   "execution_count": 17,
   "id": "6846c2da",
   "metadata": {},
   "outputs": [],
   "source": [
    "import re\n",
    "input_text = \"\"\"I am interested in manufacturing PCBs for my project. Attached \n",
    "are the gerber and design files. Kindly provide a quotation for approximately\n",
    "\n",
    "units. Also, please let me know the estimated manufacturing timeline.235 gerber\"\"\"\n",
    "\n",
    "#pattern = r'(order|order number was|my order|order no.|order number|gerber|units)\\s*\\b(\\d+)\\b'\n",
    "\n",
    "pattern = r'(\\b(?:order|order number was|my order|order no\\.|order number|gerber|units)\\b)\\s*(\\b\\d+\\b)'\n",
    "\n",
    "matches = re.findall(pattern, input_text, flags=re.IGNORECASE)\n",
    "for match in matches:\n",
    "    expression = match[0]\n",
    "    number = match[1]\n",
    "    print(\"Order Number:\", number)\n",
    "    print(\" \")"
   ]
  },
  {
   "cell_type": "code",
   "execution_count": 20,
   "id": "3a1eedd6",
   "metadata": {},
   "outputs": [],
   "source": [
    "import re\n",
    "\n",
    "input_text = \"\"\"I am interested in manufacturing PCBs for my project. Attached \n",
    "are the gerber and design files. Kindly provide a quotation for approximately 100 \n",
    "units. Also, please let me know the estimated manufacturing timeline. 2354 gerber\"\"\"\n",
    "\n",
    "pattern = r'(\\b(?:order|order number was|my order|order no.|order number|gerber|units)\\s*\\b)(\\d+)\\b'\n",
    "matches = re.finditer(pattern, input_text, flags=re.IGNORECASE)\n",
    "\n",
    "for match in matches:\n",
    "    expression = match.group(1)\n",
    "    number = match.group(2)\n",
    "    if expression.endswith(' '):\n",
    "        print(expression, end='')\n",
    "        print(\"Order Number:\", number)\n",
    "    else:\n",
    "        print(\"Order Number:\", number, end=' ')\n",
    "        print(expression)"
   ]
  },
  {
   "cell_type": "code",
   "execution_count": null,
   "id": "4c9131e0",
   "metadata": {},
   "outputs": [],
   "source": []
  }
 ],
 "metadata": {
  "kernelspec": {
   "display_name": "Python 3 (ipykernel)",
   "language": "python",
   "name": "python3"
  },
  "language_info": {
   "codemirror_mode": {
    "name": "ipython",
    "version": 3
   },
   "file_extension": ".py",
   "mimetype": "text/x-python",
   "name": "python",
   "nbconvert_exporter": "python",
   "pygments_lexer": "ipython3",
   "version": "3.10.9"
  }
 },
 "nbformat": 4,
 "nbformat_minor": 5
}
